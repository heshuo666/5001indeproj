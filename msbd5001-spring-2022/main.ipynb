{
 "cells": [
  {
   "cell_type": "code",
   "execution_count": 3,
   "id": "f8b4b5ac",
   "metadata": {},
   "outputs": [
    {
     "name": "stdout",
     "output_type": "stream",
     "text": [
      "Collecting xgboost\n",
      "  Downloading xgboost-1.6.1-py3-none-macosx_10_15_x86_64.macosx_11_0_x86_64.macosx_12_0_x86_64.whl (1.7 MB)\n",
      "\u001b[K     |████████████████████████████████| 1.7 MB 4.6 MB/s eta 0:00:01\n",
      "\u001b[?25hRequirement already satisfied: scipy in /Users/software/anaconda3/lib/python3.9/site-packages (from xgboost) (1.7.1)\n",
      "Requirement already satisfied: numpy in /Users/software/anaconda3/lib/python3.9/site-packages (from xgboost) (1.20.3)\n",
      "Installing collected packages: xgboost\n",
      "Successfully installed xgboost-1.6.1\n"
     ]
    }
   ],
   "source": [
    "!pip3 install xgboost"
   ]
  },
  {
   "cell_type": "code",
   "execution_count": 20,
   "id": "ed3796f3",
   "metadata": {},
   "outputs": [],
   "source": [
    "import numpy as np\n",
    "import pandas as pd \n",
    "import xgboost as xgb\n",
    "import matplotlib.pyplot as plt"
   ]
  },
  {
   "cell_type": "code",
   "execution_count": 21,
   "id": "b7c5caf9",
   "metadata": {},
   "outputs": [],
   "source": [
    "train_data = pd.read_csv('train.csv')"
   ]
  },
  {
   "cell_type": "code",
   "execution_count": 22,
   "id": "2546066e",
   "metadata": {},
   "outputs": [],
   "source": [
    "test_data = pd.read_csv('test.csv')"
   ]
  },
  {
   "cell_type": "code",
   "execution_count": 23,
   "id": "0581bb16",
   "metadata": {},
   "outputs": [],
   "source": [
    "train_data_label = train_data['label']"
   ]
  },
  {
   "cell_type": "code",
   "execution_count": 24,
   "id": "f06569f3",
   "metadata": {},
   "outputs": [],
   "source": [
    "train_data_withoutID = train_data.drop(columns=['id', 'label'])"
   ]
  },
  {
   "cell_type": "code",
   "execution_count": 25,
   "id": "1d57b134",
   "metadata": {},
   "outputs": [],
   "source": [
    "dtrain = xgb.DMatrix(train_data_withoutID, label=train_data_label)"
   ]
  },
  {
   "cell_type": "code",
   "execution_count": 26,
   "id": "4aaa06e2",
   "metadata": {},
   "outputs": [],
   "source": [
    "params = {\n",
    "    'booster': 'gbtree',\n",
    "    'objective': 'multi:softmax',\n",
    "    'num_class': 2,\n",
    "    'max_depth': 11,\n",
    "    'lambda': 1,\n",
    "    'subsample': 1,\n",
    "    'colsample_bytree': 1,\n",
    "    'min_child_weight': 1,\n",
    "    'silent': 2,\n",
    "    'eta': 0.1,\n",
    "    'seed': 0,\n",
    "}"
   ]
  },
  {
   "cell_type": "code",
   "execution_count": 27,
   "id": "3e17c454",
   "metadata": {},
   "outputs": [],
   "source": [
    "plst = list(params.items())"
   ]
  },
  {
   "cell_type": "code",
   "execution_count": 28,
   "id": "f926c325",
   "metadata": {},
   "outputs": [],
   "source": [
    "num_rounds = 10000"
   ]
  },
  {
   "cell_type": "code",
   "execution_count": 29,
   "id": "9f4a0a7c",
   "metadata": {},
   "outputs": [
    {
     "name": "stdout",
     "output_type": "stream",
     "text": [
      "[22:26:04] WARNING: /Users/runner/work/xgboost/xgboost/python-package/build/temp.macosx-10.9-x86_64-3.7/xgboost/src/learner.cc:627: \n",
      "Parameters: { \"silent\" } might not be used.\n",
      "\n",
      "  This could be a false alarm, with some parameters getting used by language bindings but\n",
      "  then being mistakenly passed down to XGBoost core, or some parameter actually being used\n",
      "  but getting flagged wrongly here. Please open an issue if you find any such cases.\n",
      "\n",
      "\n"
     ]
    }
   ],
   "source": [
    "model = xgb.train(plst, dtrain, num_rounds)"
   ]
  },
  {
   "cell_type": "code",
   "execution_count": 30,
   "id": "5bcad2f5",
   "metadata": {},
   "outputs": [],
   "source": [
    "dtest = xgb.DMatrix(test_data.drop(columns=['id']))"
   ]
  },
  {
   "cell_type": "code",
   "execution_count": 31,
   "id": "1e5f696c",
   "metadata": {},
   "outputs": [],
   "source": [
    "y_pred = model.predict(dtest)"
   ]
  },
  {
   "cell_type": "code",
   "execution_count": 32,
   "id": "3fd9a6e5",
   "metadata": {},
   "outputs": [
    {
     "data": {
      "text/plain": [
       "array([0., 0., 0., 0., 0., 0., 0., 0., 0., 0., 0., 1., 0., 0., 0., 0., 0.,\n",
       "       0., 0., 0., 1., 1., 0., 0., 0., 1., 0., 0., 1., 0., 1., 1., 0., 1.,\n",
       "       0., 0., 0., 1., 1., 0., 1., 0., 0., 0., 0., 0., 0., 1., 0., 0., 0.,\n",
       "       0., 0., 0., 1., 0., 0., 0., 1.], dtype=float32)"
      ]
     },
     "execution_count": 32,
     "metadata": {},
     "output_type": "execute_result"
    }
   ],
   "source": [
    "y_pred"
   ]
  },
  {
   "cell_type": "code",
   "execution_count": 33,
   "id": "727b7db0",
   "metadata": {},
   "outputs": [],
   "source": [
    "y_pred_df = pd.DataFrame(y_pred)"
   ]
  },
  {
   "cell_type": "code",
   "execution_count": 34,
   "id": "cfee2ba1",
   "metadata": {},
   "outputs": [],
   "source": [
    "y_pred_df = y_pred_df.rename(columns={0:'label'})"
   ]
  },
  {
   "cell_type": "code",
   "execution_count": 35,
   "id": "bc5cb031",
   "metadata": {},
   "outputs": [],
   "source": [
    "y_pred_df.insert(0, 'id', range(len(y_pred_df)), allow_duplicates=False)"
   ]
  },
  {
   "cell_type": "code",
   "execution_count": 36,
   "id": "63adc72a",
   "metadata": {},
   "outputs": [],
   "source": [
    "y_pred_df = y_pred_df.set_index('id')"
   ]
  },
  {
   "cell_type": "code",
   "execution_count": 37,
   "id": "39be2a06",
   "metadata": {},
   "outputs": [],
   "source": [
    "# for index,row in y_pred_df.iterrows():\n",
    "    # if row['label'] > 0.9:\n",
    "        # row['label'] = int(1)\n",
    "    # else:\n",
    "        # row['label'] = int(0)\n",
    "        \n",
    "# y_pred_df.ix[y_pred_df.label > 0.5, 'label'] = 1\n",
    "# y_pred_df.ix[y_pred_df.label <= 0.5, 'label'] = 0\n",
    "y_pred_df['label'] = y_pred_df['label'].astype(int)"
   ]
  },
  {
   "cell_type": "code",
   "execution_count": 38,
   "id": "6e9ab32d",
   "metadata": {},
   "outputs": [],
   "source": [
    "y_pred_df.to_csv(\"submission.csv\")"
   ]
  }
 ],
 "metadata": {
  "kernelspec": {
   "display_name": "Python 3 (ipykernel)",
   "language": "python",
   "name": "python3"
  },
  "language_info": {
   "codemirror_mode": {
    "name": "ipython",
    "version": 3
   },
   "file_extension": ".py",
   "mimetype": "text/x-python",
   "name": "python",
   "nbconvert_exporter": "python",
   "pygments_lexer": "ipython3",
   "version": "3.9.7"
  }
 },
 "nbformat": 4,
 "nbformat_minor": 5
}
